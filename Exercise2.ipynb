{
 "cells": [
  {
   "cell_type": "code",
   "execution_count": 21,
   "id": "6780c083-ebb9-44a4-856d-5ff22a5f9e9b",
   "metadata": {},
   "outputs": [
    {
     "name": "stdin",
     "output_type": "stream",
     "text": [
      "Enter no of row matrix 1: 2\n",
      "Enter no of col matrix 1: 2\n",
      "Enter no of row matrix 2: 2\n",
      "Enter no of col matrix 2: 2\n"
     ]
    }
   ],
   "source": [
    "import numpy as np\n",
    "n1=int(input(\"Enter no of row matrix 1:\"))\n",
    "m1=int(input(\"Enter no of col matrix 1:\"))\n",
    "n2=int(input(\"Enter no of row matrix 2:\"))\n",
    "m2=int(input(\"Enter no of col matrix 2:\"))"
   ]
  },
  {
   "cell_type": "code",
   "execution_count": 32,
   "id": "0af3b620-2b84-451d-981b-3b817cb9f230",
   "metadata": {},
   "outputs": [
    {
     "name": "stdout",
     "output_type": "stream",
     "text": [
      "Enter elements of Matrix 1\n"
     ]
    },
    {
     "name": "stdin",
     "output_type": "stream",
     "text": [
      " 1\n",
      " 2\n",
      " 3\n",
      " 4\n"
     ]
    }
   ],
   "source": [
    "print(\"Enter elements of Matrix 1\")\n",
    "A=[int(input()) for i in range(0,m1*n1)]\n",
    "A=np.array(A)\n",
    "A.resize(n1,m1)"
   ]
  },
  {
   "cell_type": "code",
   "execution_count": 30,
   "id": "e39bbe76-7f65-4d25-acb0-215fc2ac97e9",
   "metadata": {},
   "outputs": [
    {
     "name": "stdout",
     "output_type": "stream",
     "text": [
      "Enter elements of Matrix 2\n"
     ]
    },
    {
     "name": "stdin",
     "output_type": "stream",
     "text": [
      " 2\n",
      " 3\n",
      " 4\n",
      " 5\n"
     ]
    }
   ],
   "source": [
    "print(\"Enter elements of Matrix 2\")\n",
    "B=[int(input()) for i in range(0,m2*n2)]\n",
    "B=np.array(B)\n",
    "B.resize(n2,m2)"
   ]
  },
  {
   "cell_type": "code",
   "execution_count": 28,
   "id": "29608bfe-21cd-4787-815f-5f72d58078a8",
   "metadata": {},
   "outputs": [
    {
     "name": "stdout",
     "output_type": "stream",
     "text": [
      "[[16 21]\n",
      " [28 37]]\n"
     ]
    }
   ],
   "source": [
    "dot = np.dot(A,B)\n",
    "print(dot)"
   ]
  },
  {
   "cell_type": "code",
   "execution_count": 33,
   "id": "b436d992-d8ff-43f8-bcb2-16faae720eea",
   "metadata": {},
   "outputs": [
    {
     "name": "stdout",
     "output_type": "stream",
     "text": [
      "Original Array:\n",
      " [[1 2]\n",
      " [3 4]]\n",
      "Transpose of the Array:\n",
      " [[1 3]\n",
      " [2 4]]\n"
     ]
    }
   ],
   "source": [
    "print('Original Array:\\n',A)\n",
    "print('Transpose of the Array:\\n',A.transpose())"
   ]
  },
  {
   "cell_type": "code",
   "execution_count": 34,
   "id": "84288e7a-d09c-48b0-9a1d-f3c32140608a",
   "metadata": {},
   "outputs": [
    {
     "name": "stdout",
     "output_type": "stream",
     "text": [
      "Trace of the matrix: 5\n"
     ]
    }
   ],
   "source": [
    "print(\"Trace of the matrix:\",A.trace())"
   ]
  },
  {
   "cell_type": "code",
   "execution_count": 35,
   "id": "0cc450bc-7927-4ec3-8a48-5696ba20fe8d",
   "metadata": {},
   "outputs": [
    {
     "name": "stdout",
     "output_type": "stream",
     "text": [
      "Rank of the given Matrix is :  2\n"
     ]
    }
   ],
   "source": [
    "print(\"Rank of the given Matrix is : \",np.linalg.matrix_rank(A))"
   ]
  },
  {
   "cell_type": "code",
   "execution_count": 36,
   "id": "5e689ca8-0c09-44ca-9cde-899211106178",
   "metadata": {},
   "outputs": [
    {
     "name": "stdout",
     "output_type": "stream",
     "text": [
      "Determinant of the matrix: -2.0000000000000004\n"
     ]
    }
   ],
   "source": [
    "print(\"Determinant of the matrix:\",np.linalg.det(A))"
   ]
  },
  {
   "cell_type": "code",
   "execution_count": 37,
   "id": "bd2a34e0-6649-487b-874c-5e68f04cd46d",
   "metadata": {},
   "outputs": [
    {
     "name": "stdout",
     "output_type": "stream",
     "text": [
      "Inverse of the matrix:\n",
      " [[-2.   1. ]\n",
      " [ 1.5 -0.5]]\n"
     ]
    }
   ],
   "source": [
    "print(\"Inverse of the matrix:\\n\",np.linalg.inv(A))"
   ]
  },
  {
   "cell_type": "code",
   "execution_count": 38,
   "id": "d8319e1c-f1d7-434a-b078-383f7dbefb0d",
   "metadata": {},
   "outputs": [
    {
     "name": "stdout",
     "output_type": "stream",
     "text": [
      "Eigenvalues of A: [-0.37228132  5.37228132]\n",
      "Eigenvectors of A:\n",
      " [[-0.82456484 -0.41597356]\n",
      " [ 0.56576746 -0.90937671]]\n"
     ]
    }
   ],
   "source": [
    "w, v = np.linalg.eig(A) \n",
    "print( \"Eigenvalues of A:\",w)\n",
    "print( \"Eigenvectors of A:\\n\",v)"
   ]
  },
  {
   "cell_type": "code",
   "execution_count": null,
   "id": "fe866972-e463-43bb-9692-66f876e3faec",
   "metadata": {},
   "outputs": [],
   "source": []
  }
 ],
 "metadata": {
  "kernelspec": {
   "display_name": "Python 3 (ipykernel)",
   "language": "python",
   "name": "python3"
  },
  "language_info": {
   "codemirror_mode": {
    "name": "ipython",
    "version": 3
   },
   "file_extension": ".py",
   "mimetype": "text/x-python",
   "name": "python",
   "nbconvert_exporter": "python",
   "pygments_lexer": "ipython3",
   "version": "3.9.12"
  }
 },
 "nbformat": 4,
 "nbformat_minor": 5
}
