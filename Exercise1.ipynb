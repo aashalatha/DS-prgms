{
 "cells": [
  {
   "cell_type": "code",
   "execution_count": 19,
   "id": "05b5f30e-f3d2-4c11-a11f-9ea60a2504a1",
   "metadata": {},
   "outputs": [
    {
     "data": {
      "text/plain": [
       "array([ True,  True,  True, False,  True,  True, False, False,  True])"
      ]
     },
     "execution_count": 19,
     "metadata": {},
     "output_type": "execute_result"
    }
   ],
   "source": [
    "# 1) Write a program to create an element wise comparison\n",
    "import numpy as np\n",
    "a=np.array([1,2,32,3,4,5,64,76,34])\n",
    "b=np.array([1,2,32,8,4,5,6,7,34])\n",
    "np.equal(a,b)"
   ]
  },
  {
   "cell_type": "code",
   "execution_count": 4,
   "id": "1b37717e-e70a-48df-b3a4-07188e7f26fe",
   "metadata": {},
   "outputs": [
    {
     "data": {
      "text/plain": [
       "array([False, False, False, False, False, False,  True,  True, False])"
      ]
     },
     "execution_count": 4,
     "metadata": {},
     "output_type": "execute_result"
    }
   ],
   "source": [
    "np.greater(a,b)"
   ]
  },
  {
   "cell_type": "code",
   "execution_count": 7,
   "id": "805c7c03-ac53-4b3b-ba60-b1b41a7d8152",
   "metadata": {},
   "outputs": [
    {
     "data": {
      "text/plain": [
       "array([ True,  True,  True, False,  True,  True,  True,  True,  True])"
      ]
     },
     "execution_count": 7,
     "metadata": {},
     "output_type": "execute_result"
    }
   ],
   "source": [
    "np.greater_equal(a,b)"
   ]
  },
  {
   "cell_type": "code",
   "execution_count": 5,
   "id": "a7fecaaf-281d-4376-a69a-c99324f20378",
   "metadata": {},
   "outputs": [
    {
     "data": {
      "text/plain": [
       "array([False, False, False,  True, False, False, False, False, False])"
      ]
     },
     "execution_count": 5,
     "metadata": {},
     "output_type": "execute_result"
    }
   ],
   "source": [
    "np.less(a,b)"
   ]
  },
  {
   "cell_type": "code",
   "execution_count": 8,
   "id": "cdc23ca4-dc52-4724-9440-9b630527453d",
   "metadata": {},
   "outputs": [
    {
     "data": {
      "text/plain": [
       "array([ True,  True,  True,  True,  True,  True, False, False,  True])"
      ]
     },
     "execution_count": 8,
     "metadata": {},
     "output_type": "execute_result"
    }
   ],
   "source": [
    "np.less_equal(a,b)"
   ]
  },
  {
   "cell_type": "code",
   "execution_count": 6,
   "id": "8a8ce8a6-356a-4b88-aa86-1df36c6f4279",
   "metadata": {},
   "outputs": [
    {
     "name": "stdout",
     "output_type": "stream",
     "text": [
      "[30 32 34 36 38 40 42 44 46 48 50 52 54 56 58 60 62 64 66 68]\n"
     ]
    }
   ],
   "source": [
    "# 2) to create a array of even integer from 30 to 70\n",
    "arr=np.arange(30,70,2)\n",
    "print(arr)"
   ]
  },
  {
   "cell_type": "code",
   "execution_count": 9,
   "id": "f763e733-1d91-4c05-8151-7aa561a05c96",
   "metadata": {},
   "outputs": [
    {
     "name": "stdout",
     "output_type": "stream",
     "text": [
      "[[1. 0. 0.]\n",
      " [0. 1. 0.]\n",
      " [0. 0. 1.]]\n"
     ]
    }
   ],
   "source": [
    "# 3) to create a 3*3 identity matrix\n",
    "x=np.identity(3)\n",
    "print(x)"
   ]
  },
  {
   "cell_type": "code",
   "execution_count": 11,
   "id": "9ea7bbf3-e1d7-45fb-b756-d6cb0331ec94",
   "metadata": {},
   "outputs": [
    {
     "name": "stdout",
     "output_type": "stream",
     "text": [
      "[  0   1   2   3   4   5   6   7   8  -9 -10 -11 -12 -13 -14 -15  16  17\n",
      "  18  19  20]\n"
     ]
    }
   ],
   "source": [
    "# 4) create a vector values from 0 to 20 and change sign of numbers and range from 9 to 15\n",
    "\n",
    "x=np.arange(21)\n",
    "x[ (x>=9) & (x<=15) ] *=-1\n",
    "print(x)"
   ]
  },
  {
   "cell_type": "code",
   "execution_count": 12,
   "id": "8f94b765-3d31-4719-b48d-f3451cdbb342",
   "metadata": {},
   "outputs": [
    {
     "name": "stdout",
     "output_type": "stream",
     "text": [
      "[[1 0 0 0 0]\n",
      " [0 2 0 0 0]\n",
      " [0 0 3 0 0]\n",
      " [0 0 0 4 0]\n",
      " [0 0 0 0 5]]\n"
     ]
    }
   ],
   "source": [
    "# 5) create a 5*5 0 matrix with diagonal elements 1 2 3 4 5 \n",
    "x = np.diag([1, 2, 3, 4, 5])\n",
    "print(x)"
   ]
  },
  {
   "cell_type": "code",
   "execution_count": 13,
   "id": "cb53e3f0-0c62-44e8-82d0-470e83be3f3b",
   "metadata": {},
   "outputs": [
    {
     "name": "stdout",
     "output_type": "stream",
     "text": [
      "45\n",
      "[12 15 18]\n",
      "[ 6 15 24]\n"
     ]
    }
   ],
   "source": [
    "# 6) to compute sum of all elemnts   \n",
    "#sum of each colums and    \n",
    "#sum of each row of given array \n",
    "x = np.array([[1,2,3],[4,5,6],[7,8,9]])\n",
    "\n",
    "\n",
    "print(np.sum(x))\n",
    "print(np.sum(x, axis=0))\n",
    "print(np.sum(x, axis=1))"
   ]
  },
  {
   "cell_type": "code",
   "execution_count": 29,
   "id": "e6616501-cca2-4c82-aa44-4785facf7e6e",
   "metadata": {},
   "outputs": [
    {
     "name": "stdout",
     "output_type": "stream",
     "text": [
      "Original array:\n",
      "[[ 0  1  2]\n",
      " [ 3  4  5]\n",
      " [ 6  7  8]\n",
      " [ 9 10 11]]\n",
      "Content of the text file:\n",
      "[[ 0.  1.  2.]\n",
      " [ 3.  4.  5.]\n",
      " [ 6.  7.  8.]\n",
      " [ 9. 10. 11.]]\n"
     ]
    }
   ],
   "source": [
    "# 7) to save a given array to a text file and load it\n",
    "x = np.arange(12).reshape(4, 3)\n",
    "print(\"Original array:\")\n",
    "print(x)\n",
    "np.savetxt('temp.txt', x, fmt=\"%d\") \n",
    "print(\"Content of the text file:\")\n",
    "result = np.loadtxt('temp.txt')\n",
    "print(result)"
   ]
  },
  {
   "cell_type": "code",
   "execution_count": 23,
   "id": "3c3e215f-151f-43dd-8b7e-7c21467c2ea6",
   "metadata": {},
   "outputs": [
    {
     "data": {
      "text/plain": [
       "array([ True,  True,  True, False,  True,  True, False, False,  True])"
      ]
     },
     "execution_count": 23,
     "metadata": {},
     "output_type": "execute_result"
    }
   ],
   "source": [
    "# 8) to check whether 2 arrays are equal or not (element wise)\n",
    "a=np.array([1,2,32,3,4,5,6,76,34])\n",
    "b=np.array([1,2,32,4,4,5,5,65,34])\n",
    "np.equal(a,b)"
   ]
  },
  {
   "cell_type": "code",
   "execution_count": 31,
   "id": "d179331f-c0e8-40bf-b3f1-641de4de4375",
   "metadata": {},
   "outputs": [
    {
     "name": "stdout",
     "output_type": "stream",
     "text": [
      "Original array:\n",
      "[[ 0  1  2  3]\n",
      " [ 4  5  6  7]\n",
      " [ 8  9 10 11]\n",
      " [12 13 14 15]]\n",
      "\n",
      "New array after swapping first and last rows of the said array:\n",
      "[[12 13 14 15]\n",
      " [ 4  5  6  7]\n",
      " [ 8  9 10 11]\n",
      " [ 0  1  2  3]]\n"
     ]
    }
   ],
   "source": [
    "# 9) create 4x4 array with random values, and now create a new array from the said array swapping first and last rows.\n",
    "\n",
    "nums = np.arange(16).reshape(4, 4)\n",
    "print(\"Original array:\")\n",
    "print(nums)\n",
    "print(\"\\nNew array after swapping first and last rows of the said array:\")\n",
    "nums[[0,-1]]=nums[[-1,0]]\n",
    "print(nums)"
   ]
  },
  {
   "cell_type": "code",
   "execution_count": 24,
   "id": "d8c7bbd5-fe48-4703-b0de-9b1763b22f74",
   "metadata": {},
   "outputs": [
    {
     "name": "stdout",
     "output_type": "stream",
     "text": [
      "Array1:\n",
      "[[2 5 2]\n",
      " [1 5 5]]\n",
      "Array2:\n",
      "[[5 3 4]\n",
      " [3 2 5]]\n",
      "\n",
      "Multiply said arrays of same size element-by-element:\n",
      "[[10 15  8]\n",
      " [ 3 10 25]]\n"
     ]
    }
   ],
   "source": [
    "# 10) to multiply two given arrays of same size element by element\n",
    "nums1 = np.array([[2, 5, 2],\n",
    "              [1, 5, 5]])\n",
    "nums2 = np.array([[5, 3, 4],\n",
    "              [3, 2, 5]])\n",
    "print(\"Array1:\") \n",
    "print(nums1)\n",
    "print(\"Array2:\") \n",
    "print(nums2)\n",
    "print(\"\\nMultiply said arrays of same size element-by-element:\")\n",
    "print(np.multiply(nums1, nums2))\n",
    "\n"
   ]
  }
 ],
 "metadata": {
  "kernelspec": {
   "display_name": "Python 3 (ipykernel)",
   "language": "python",
   "name": "python3"
  },
  "language_info": {
   "codemirror_mode": {
    "name": "ipython",
    "version": 3
   },
   "file_extension": ".py",
   "mimetype": "text/x-python",
   "name": "python",
   "nbconvert_exporter": "python",
   "pygments_lexer": "ipython3",
   "version": "3.9.12"
  }
 },
 "nbformat": 4,
 "nbformat_minor": 5
}
